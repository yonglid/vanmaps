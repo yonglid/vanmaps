{
 "cells": [
  {
   "cell_type": "markdown",
   "metadata": {},
   "source": [
    "# Data Visualization Using Chloropleth Maps"
   ]
  },
  {
   "cell_type": "markdown",
   "metadata": {},
   "source": [
    "## Example Application: 2020 Primary Vote Margin in TX31"
   ]
  },
  {
   "cell_type": "code",
   "execution_count": 1,
   "metadata": {
    "scrolled": true
   },
   "outputs": [
    {
     "name": "stderr",
     "output_type": "stream",
     "text": [
      "/usr/local/lib/python3.5/dist-packages/pandas/core/indexing.py:190: SettingWithCopyWarning: \n",
      "A value is trying to be set on a copy of a slice from a DataFrame\n",
      "\n",
      "See the caveats in the documentation: http://pandas.pydata.org/pandas-docs/stable/indexing.html#indexing-view-versus-copy\n",
      "  self._setitem_with_indexer(indexer, value)\n"
     ]
    },
    {
     "name": "stdout",
     "output_type": "stream",
     "text": [
      "  Precinct     Margin\n",
      "0     0101 -10.825688\n",
      "1     0102   8.203125\n",
      "2     0103  -1.449275\n",
      "3     0104  -7.692308\n",
      "4     0105   1.176471\n",
      "(-31.780000000000001, 13.043478259999999)\n"
     ]
    },
    {
     "data": {
      "text/html": [
       "\n",
       "    <div class=\"bk-root\">\n",
       "        <a href=\"https://bokeh.org\" target=\"_blank\" class=\"bk-logo bk-logo-small bk-logo-notebook\"></a>\n",
       "        <span id=\"1033\">Loading BokehJS ...</span>\n",
       "    </div>"
      ]
     },
     "metadata": {},
     "output_type": "execute_result"
    },
    {
     "data": {},
     "metadata": {},
     "output_type": "display_data"
    },
    {
     "data": {
      "text/html": [
       "\n",
       "\n",
       "\n",
       "\n",
       "\n",
       "\n",
       "  <div class=\"bk-root\" id=\"a2f897aa-af0d-4b35-945b-c6a44f4e90dc\" data-root-id=\"1005\"></div>\n"
      ]
     },
     "metadata": {},
     "output_type": "execute_result"
    },
    {
     "data": {},
     "metadata": {
      "application/vnd.bokehjs_exec.v0+json": {
       "id": "1005"
      }
     },
     "output_type": "display_data"
    }
   ],
   "source": [
    "\"\"\"\n",
    "Use a chloropleth to visualize the distribution of precincts that went for or against Donna Imam in the March 2020\n",
    "Democratic Primary. Vote Margin is (Donna vote %) - (runoff opponent %). See vandata/ for the input data file.\n",
    "\"\"\"\n",
    "\n",
    "import geopandas as gpd\n",
    "import pandas as pd\n",
    "import numpy as np\n",
    "from bokeh.io import output_notebook, show, output_file\n",
    "from bokeh.plotting import figure\n",
    "from bokeh.models import GeoJSONDataSource, LinearColorMapper, ColorBar\n",
    "from bokeh.transform import factor_cmap\n",
    "from bokeh.palettes import brewer, Spectral6\n",
    "import json\n",
    "from bokeh.io import curdoc, output_notebook\n",
    "from bokeh.models import Slider, HoverTool\n",
    "from bokeh.layouts import widgetbox, row, column\n",
    "from bokeh.io import export_png\n",
    "from precinctmapping import Chloropleth\n",
    "\n",
    "#This shapefile contains all Texas election precincts, not just TX31\n",
    "shapefile = 'texasprecincts/Precincts.shp'\n",
    "# Read shapefile using Geopandas\n",
    "gdf = gpd.read_file(shapefile)\n",
    "gdf = gdf[gdf['CNTY'].isin(['27', '491'])] #Filters for Bell and Williamson Counties, which make up TX31\n",
    "\n",
    "#read in the data file and take just the columns of interest\n",
    "datafile = pd.read_csv('vandata/2020pvotesbyprecinct.csv')\n",
    "datafile['Margin'] = datafile['Margin']*100\n",
    "datafile = datafile[['Precinct','Margin']]\n",
    "\n",
    "#I think at one point the precinct column was giving me trouble so I put this here, it may or may not be necessary\n",
    "for i in range(len(datafile)):\n",
    "    datafile['Precinct'].iloc[i] = str(datafile['Precinct'].iloc[i])\n",
    "    if len(datafile['Precinct'].iloc[i]) == 3:\n",
    "        datafile['Precinct'].iloc[i] = '0' + datafile['Precinct'].iloc[i]\n",
    "print(datafile.head())\n",
    "\n",
    "#merge geodata and data, convert to json\n",
    "merged = gdf.merge(datafile, 'right', left_on='PREC', right_on='Precinct')\n",
    "#print(merged.head)\n",
    "merged_json = json.loads(merged.to_json())\n",
    "jsondata = json.dumps(merged_json)\n",
    "mapscale = (datafile['Margin'].min(),datafile['Margin'].max())\n",
    "print(mapscale)\n",
    "\n",
    "#Instantiate Chloropleth object and create map\n",
    "my_map = Chloropleth(json_data = jsondata, \n",
    "                     varname = 'Margin',\n",
    "                     figtitle = 'TX31 Vote Margin by Precinct', \n",
    "                     palette = brewer['Spectral'][5][::-1],\n",
    "                     mapscale = (datafile['Margin'].min(),datafile['Margin'].max()))\n",
    "my_map.create()"
   ]
  },
  {
   "cell_type": "code",
   "execution_count": null,
   "metadata": {},
   "outputs": [],
   "source": []
  }
 ],
 "metadata": {
  "kernelspec": {
   "display_name": "Python 3",
   "language": "python",
   "name": "python3"
  },
  "language_info": {
   "codemirror_mode": {
    "name": "ipython",
    "version": 3
   },
   "file_extension": ".py",
   "mimetype": "text/x-python",
   "name": "python",
   "nbconvert_exporter": "python",
   "pygments_lexer": "ipython3",
   "version": "3.5.2"
  }
 },
 "nbformat": 4,
 "nbformat_minor": 2
}
